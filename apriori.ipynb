{
 "cells": [
  {
   "cell_type": "markdown",
   "metadata": {},
   "source": [
    "# 仅实现item1∧item2->item3的形式"
   ]
  },
  {
   "cell_type": "code",
   "execution_count": 18,
   "metadata": {},
   "outputs": [],
   "source": [
    "import itertools\n",
    "import pandas as pd\n",
    "import numpy as np\n",
    "data = [[1, 3, 4],\n",
    "        [3, 2, 5],\n",
    "        [1, 2, 3, 5],\n",
    "        [2, 5]]\n",
    "\n",
    "class Apriori:\n",
    "    def __init__(self,numer_data,min_support,min_confidence):\n",
    "        self.numer_data = numer_data\n",
    "        self.max_len = len(self.numer_data)\n",
    "        self.unique_item = [1,2,3,4,5,6]\n",
    "        self.min_support = min_support\n",
    "        self.min_confidence = min_confidence\n",
    "    \n",
    "    #计算单个的支持度    \n",
    "    def cal_support(self):\n",
    "        support = []\n",
    "        for t1 in self.unique_item:\n",
    "            i = 0 #初始化是否在数组中的计数器\n",
    "            for t2 in data:\n",
    "                if t1 in t2:\n",
    "                    i += 1\n",
    "            support.append(i/self.max_len)\n",
    "        return support\n",
    "    \n",
    "    #删选支持度过低的\n",
    "    def del_min_support(self):\n",
    "        new_data1 = []\n",
    "        for t1,t2 in zip(self.cal_support(),self.unique_item):\n",
    "            if t1 >= 0.6:\n",
    "                new_data1.append(t2)\n",
    "        return new_data1\n",
    "    \n",
    "    #将上一步删选得到的符合支持度条件的单个商品进行两两组合\n",
    "    def generate_samples(self):\n",
    "        return itertools.combinations(self.del_min_support(),2)\n",
    "    \n",
    "    #由两两组合的商品，计算其支持度，置信度，提升度\n",
    "    def cal_py(self):\n",
    "        support2 = []\n",
    "        support2_samples = []\n",
    "        i = 0 #初始化两两组合的计数器\n",
    "        for t1 in self.generate_samples():\n",
    "            support2_samples.append(t1)\n",
    "            i += 1 \n",
    "            j = 0 #初始化支持度计数器\n",
    "            for t2 in self.numer_data:\n",
    "                if t1[0] in t2 and t1[1] in t2:\n",
    "                    j += 1\n",
    "            support2.append([j])\n",
    "        # return support2\n",
    "        return [support2_samples,list((np.array(support2)/self.max_len).reshape(-1))]\n",
    "    \n",
    "    #计算support2_samples的支持度\n",
    "    def cal_conf2(self):\n",
    "        support2_samples,support2 = self.cal_py()[0],self.cal_py()[1]\n",
    "        p_y = []\n",
    "        p_xy = []\n",
    "        for t1 in support2_samples:\n",
    "            # t = self.del_min_support()\n",
    "            y = set(t1)\n",
    "            i,j = 0,0 #初始化p_y的计数器和p_xy的计数器\n",
    "            for t2 in self.numer_data:\n",
    "                if y.issubset(set(t2)):\n",
    "                    i += 1\n",
    "                if set(self.del_min_support()).issubset(set(t2)):\n",
    "                    j += 1\n",
    "            p_y.append(i/self.max_len)\n",
    "            p_xy.append(j/self.max_len)\n",
    "        # print(p_xy)\n",
    "        return [support2_samples,list((np.array(p_xy).reshape(-1))/(np.array(p_y).reshape(-1)))]\n",
    "    \n",
    "     #删掉置信度不达到设定标准的\n",
    "    def del_min_conf2(self):\n",
    "        new_data2 = [[],[]]\n",
    "        for t1,t2 in zip(self.cal_conf2()[0],self.cal_conf2()[1]):\n",
    "            if t2 >= self.min_confidence:\n",
    "                new_data2[0].append(t1)\n",
    "                new_data2[1].append(t2)\n",
    "        return new_data2\n",
    "    \n",
    "    #计算support2_samples的置信度\n",
    "    def cal_lift2(self):\n",
    "        support2_samples,support2 = self.del_min_conf2()[0],self.del_min_conf2()[1]\n",
    "        p_x = []\n",
    "        for t1 in support2_samples:\n",
    "            t = self.del_min_support()\n",
    "            y = set(t)-set(t1)\n",
    "            # print('y:',y)\n",
    "            i = 0 #初始化p_y的计数器\n",
    "            for t2 in self.numer_data:\n",
    "                # print('t2: ',t2)\n",
    "                if y.issubset(set(t2)):\n",
    "                    i += 1\n",
    "            # print('i:',i)\n",
    "            p_x.append(i/self.max_len)\n",
    "        #print(p_x)\n",
    "        return [support2_samples,np.array(self.del_min_conf2()[1])/np.array(p_x)]"
   ]
  },
  {
   "cell_type": "code",
   "execution_count": 19,
   "metadata": {},
   "outputs": [
    {
     "name": "stdout",
     "output_type": "stream",
     "text": [
      "置信度结果:  [[(2, 3), (2, 5), (3, 5)], [1.0, 0.6666666666666666, 1.0]]\n",
      "提升度结果:  [[(2, 3), (2, 5), (3, 5)], array([1.33333333, 0.88888889, 1.33333333])]\n"
     ]
    }
   ],
   "source": [
    "test = Apriori(numer_data=data,min_support=0.5,min_confidence=0.6)\n",
    "test.cal_py()\n",
    "# test.cal_conf2()\n",
    "print('置信度结果: ',test.del_min_conf2())\n",
    "print('提升度结果: ',test.cal_lift2())"
   ]
  },
  {
   "cell_type": "markdown",
   "metadata": {},
   "source": [
    "# apriori库的结果"
   ]
  },
  {
   "cell_type": "code",
   "execution_count": 21,
   "metadata": {},
   "outputs": [
    {
     "name": "stdout",
     "output_type": "stream",
     "text": [
      "RelationRecord(items=frozenset({2, 3, 5}), support=0.5, ordered_statistics=[OrderedStatistic(items_base=frozenset({2}), items_add=frozenset({3, 5}), confidence=0.6666666666666666, lift=1.3333333333333333), OrderedStatistic(items_base=frozenset({3}), items_add=frozenset({2, 5}), confidence=0.6666666666666666, lift=0.8888888888888888), OrderedStatistic(items_base=frozenset({5}), items_add=frozenset({2, 3}), confidence=0.6666666666666666, lift=1.3333333333333333), OrderedStatistic(items_base=frozenset({2, 3}), items_add=frozenset({5}), confidence=1.0, lift=1.3333333333333333), OrderedStatistic(items_base=frozenset({2, 5}), items_add=frozenset({3}), confidence=0.6666666666666666, lift=0.8888888888888888), OrderedStatistic(items_base=frozenset({3, 5}), items_add=frozenset({2}), confidence=1.0, lift=1.3333333333333333)])\n"
     ]
    }
   ],
   "source": [
    "from apyori import apriori\n",
    "\n",
    "data = [[1, 3, 4],\n",
    "        [3, 2, 5],\n",
    "        [1, 2, 3, 5],\n",
    "        [2, 5]]\n",
    "\n",
    "result = list(apriori(transactions=data,min_support=0.5,min_confidence=0.6))\n",
    "len(result)\n",
    "print(result[-1])\n"
   ]
  },
  {
   "cell_type": "markdown",
   "metadata": {},
   "source": [
    "#### 比较item1∧item2->item3的部分可以发现，输出结果一致"
   ]
  }
 ],
 "metadata": {
  "kernelspec": {
   "display_name": "Python 3",
   "language": "python",
   "name": "python3"
  },
  "language_info": {
   "codemirror_mode": {
    "name": "ipython",
    "version": 3
   },
   "file_extension": ".py",
   "mimetype": "text/x-python",
   "name": "python",
   "nbconvert_exporter": "python",
   "pygments_lexer": "ipython3",
   "version": "3.7.6"
  }
 },
 "nbformat": 4,
 "nbformat_minor": 4
}
